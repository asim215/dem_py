{
 "cells": [
  {
   "cell_type": "markdown",
   "id": "eca3840f-9c36-446c-a7ef-c77931447c08",
   "metadata": {},
   "source": [
    "# Классификация"
   ]
  },
  {
   "cell_type": "markdown",
   "id": "oCcIHWge5QJU",
   "metadata": {
    "id": "oCcIHWge5QJU"
   },
   "source": [
    "## Импорт библиотек"
   ]
  },
  {
   "cell_type": "markdown",
   "id": "WHogSu9G7HxY",
   "metadata": {
    "id": "WHogSu9G7HxY"
   },
   "source": [
    " Для кластеризации нам понадобятся следующие библиотеки:\n",
    "* pandas - для работы с таблицей данных\n",
    "* numpy - для работы с массивами\n",
    "* nltk, pymorphy - для предобработки запросов\n",
    "* sklearn - модели векторизаторов и кластеризаторов\n",
    "* pickle - сериализация и десериализация данных, необходим для сохранения весов модели"
   ]
  },
  {
   "cell_type": "code",
   "execution_count": 1,
   "id": "4cfdf283-1c43-49fb-b7de-8b204f2c5fd3",
   "metadata": {},
   "outputs": [],
   "source": [
    "# Спрятать warnings\n",
    "import warnings\n",
    "warnings.filterwarnings('ignore')"
   ]
  },
  {
   "cell_type": "code",
   "execution_count": 2,
   "id": "e038ddf4-7198-4b46-8a16-c46061ec7cd4",
   "metadata": {},
   "outputs": [
    {
     "name": "stderr",
     "output_type": "stream",
     "text": [
      "[nltk_data] Downloading package punkt to /home/simon/nltk_data...\n",
      "[nltk_data]   Package punkt is already up-to-date!\n",
      "[nltk_data] Downloading package stopwords to /home/simon/nltk_data...\n",
      "[nltk_data]   Package stopwords is already up-to-date!\n",
      "[nltk_data] Downloading package punkt to /home/simon/nltk_data...\n",
      "[nltk_data]   Package punkt is already up-to-date!\n",
      "[nltk_data] Downloading package stopwords to /home/simon/nltk_data...\n",
      "[nltk_data]   Package stopwords is already up-to-date!\n"
     ]
    }
   ],
   "source": [
    "from pymorphy2 import MorphAnalyzer\n",
    "import numpy as np\n",
    "import pandas as pd\n",
    "import nltk\n",
    "import pickle\n",
    "import os\n",
    "import re\n",
    "from sklearn.feature_extraction.text import TfidfVectorizer\n",
    "from sklearn.metrics import classification_report\n",
    "\n",
    "# Для нормализации текста\n",
    "from normalize import normalize_text\n",
    "# загрузка модулей nltk\n",
    "nltk.download('punkt')\n",
    "nltk.download('stopwords')\n",
    "# морфологический анализатор для русского языка\n",
    "morph = MorphAnalyzer()"
   ]
  },
  {
   "cell_type": "markdown",
   "id": "dcedCo9wcFry",
   "metadata": {
    "id": "dcedCo9wcFry"
   },
   "source": [
    "## Подготовка данных"
   ]
  },
  {
   "cell_type": "markdown",
   "id": "Us4qjwDD6648",
   "metadata": {
    "id": "Us4qjwDD6648"
   },
   "source": [
    "### Загрузка и чистка данных"
   ]
  },
  {
   "cell_type": "code",
   "execution_count": 3,
   "id": "05459255-9e3c-485f-99a0-733c2450fcb5",
   "metadata": {},
   "outputs": [
    {
     "name": "stdout",
     "output_type": "stream",
     "text": [
      "   Unnamed: 0                                    text  \\\n",
      "0           0   имеются ли у вас номера бизнес класса   \n",
      "1           1         Добрый день Какое время заезда    \n",
      "2           2            скажите номера какие имеются   \n",
      "3           3               когда можно будет заехать   \n",
      "4           4  какие услуги гостинице есть дополнение   \n",
      "\n",
      "                         normal_text   label  \n",
      "0         иметься номер бизнес класс  номера  \n",
      "1      добрый день какой время заезд   время  \n",
      "2        сказать номер какой иметься  номера  \n",
      "3                            заехать   время  \n",
      "4  какой услуга гостиница дополнение  услуги  \n",
      "                                     text   label\n",
      "0   имеются ли у вас номера бизнес класса  номера\n",
      "1         Добрый день Какое время заезда    время\n",
      "2            скажите номера какие имеются  номера\n",
      "3               когда можно будет заехать   время\n",
      "4  какие услуги гостинице есть дополнение  услуги\n"
     ]
    },
    {
     "data": {
      "text/html": [
       "<div>\n",
       "<style scoped>\n",
       "    .dataframe tbody tr th:only-of-type {\n",
       "        vertical-align: middle;\n",
       "    }\n",
       "\n",
       "    .dataframe tbody tr th {\n",
       "        vertical-align: top;\n",
       "    }\n",
       "\n",
       "    .dataframe thead th {\n",
       "        text-align: right;\n",
       "    }\n",
       "</style>\n",
       "<table border=\"1\" class=\"dataframe\">\n",
       "  <thead>\n",
       "    <tr style=\"text-align: right;\">\n",
       "      <th></th>\n",
       "      <th>text</th>\n",
       "      <th>label</th>\n",
       "    </tr>\n",
       "  </thead>\n",
       "  <tbody>\n",
       "    <tr>\n",
       "      <th>0</th>\n",
       "      <td>имеются ли у вас номера бизнес класса</td>\n",
       "      <td>номера</td>\n",
       "    </tr>\n",
       "    <tr>\n",
       "      <th>1</th>\n",
       "      <td>Добрый день Какое время заезда</td>\n",
       "      <td>время</td>\n",
       "    </tr>\n",
       "    <tr>\n",
       "      <th>2</th>\n",
       "      <td>скажите номера какие имеются</td>\n",
       "      <td>номера</td>\n",
       "    </tr>\n",
       "    <tr>\n",
       "      <th>3</th>\n",
       "      <td>когда можно будет заехать</td>\n",
       "      <td>время</td>\n",
       "    </tr>\n",
       "    <tr>\n",
       "      <th>4</th>\n",
       "      <td>какие услуги гостинице есть дополнение</td>\n",
       "      <td>услуги</td>\n",
       "    </tr>\n",
       "    <tr>\n",
       "      <th>...</th>\n",
       "      <td>...</td>\n",
       "      <td>...</td>\n",
       "    </tr>\n",
       "    <tr>\n",
       "      <th>488</th>\n",
       "      <td>Здравствуйте Мне нужно оформить бронь номера</td>\n",
       "      <td>время</td>\n",
       "    </tr>\n",
       "    <tr>\n",
       "      <th>489</th>\n",
       "      <td>Здравствуйте где я смогу оставить машину</td>\n",
       "      <td>время</td>\n",
       "    </tr>\n",
       "    <tr>\n",
       "      <th>490</th>\n",
       "      <td>хочу узнать какие есть услуги в гостинице</td>\n",
       "      <td>услуги</td>\n",
       "    </tr>\n",
       "    <tr>\n",
       "      <th>491</th>\n",
       "      <td>во сколько можно въезжать в номер</td>\n",
       "      <td>время</td>\n",
       "    </tr>\n",
       "    <tr>\n",
       "      <th>492</th>\n",
       "      <td>добрый день у вас в гостинице есть дополнитель...</td>\n",
       "      <td>услуги</td>\n",
       "    </tr>\n",
       "  </tbody>\n",
       "</table>\n",
       "<p>493 rows × 2 columns</p>\n",
       "</div>"
      ],
      "text/plain": [
       "                                                  text   label\n",
       "0                имеются ли у вас номера бизнес класса  номера\n",
       "1                      Добрый день Какое время заезда    время\n",
       "2                         скажите номера какие имеются  номера\n",
       "3                            когда можно будет заехать   время\n",
       "4               какие услуги гостинице есть дополнение  услуги\n",
       "..                                                 ...     ...\n",
       "488       Здравствуйте Мне нужно оформить бронь номера   время\n",
       "489           Здравствуйте где я смогу оставить машину   время\n",
       "490          хочу узнать какие есть услуги в гостинице  услуги\n",
       "491                  во сколько можно въезжать в номер   время\n",
       "492  добрый день у вас в гостинице есть дополнитель...  услуги\n",
       "\n",
       "[493 rows x 2 columns]"
      ]
     },
     "execution_count": 3,
     "metadata": {},
     "output_type": "execute_result"
    }
   ],
   "source": [
    "df = pd.read_csv(\"../data/data_marketed.csv\")\n",
    "print(df.head())\n",
    "\n",
    "# Исходный текст\n",
    "df = df[['text', 'label']]\n",
    "# Нормализованный текст\n",
    "#df = df[['normal_text', 'label']]\n",
    "df.columns = ['text', 'label']\n",
    "df = df.dropna()\n",
    "print(df.head())\n",
    "df"
   ]
  },
  {
   "cell_type": "code",
   "execution_count": 4,
   "id": "XMyYLJOSv4a5",
   "metadata": {
    "id": "XMyYLJOSv4a5"
   },
   "outputs": [
    {
     "data": {
      "text/html": [
       "<div>\n",
       "<style scoped>\n",
       "    .dataframe tbody tr th:only-of-type {\n",
       "        vertical-align: middle;\n",
       "    }\n",
       "\n",
       "    .dataframe tbody tr th {\n",
       "        vertical-align: top;\n",
       "    }\n",
       "\n",
       "    .dataframe thead th {\n",
       "        text-align: right;\n",
       "    }\n",
       "</style>\n",
       "<table border=\"1\" class=\"dataframe\">\n",
       "  <thead>\n",
       "    <tr style=\"text-align: right;\">\n",
       "      <th></th>\n",
       "      <th>text</th>\n",
       "      <th>label</th>\n",
       "    </tr>\n",
       "  </thead>\n",
       "  <tbody>\n",
       "    <tr>\n",
       "      <th>0</th>\n",
       "      <td>имеются ли у вас номера бизнес класса</td>\n",
       "      <td>номера</td>\n",
       "    </tr>\n",
       "    <tr>\n",
       "      <th>1</th>\n",
       "      <td>Добрый день Какое время заезда</td>\n",
       "      <td>время</td>\n",
       "    </tr>\n",
       "    <tr>\n",
       "      <th>2</th>\n",
       "      <td>скажите номера какие имеются</td>\n",
       "      <td>номера</td>\n",
       "    </tr>\n",
       "    <tr>\n",
       "      <th>3</th>\n",
       "      <td>когда можно будет заехать</td>\n",
       "      <td>время</td>\n",
       "    </tr>\n",
       "    <tr>\n",
       "      <th>4</th>\n",
       "      <td>какие услуги гостинице есть дополнение</td>\n",
       "      <td>услуги</td>\n",
       "    </tr>\n",
       "    <tr>\n",
       "      <th>...</th>\n",
       "      <td>...</td>\n",
       "      <td>...</td>\n",
       "    </tr>\n",
       "    <tr>\n",
       "      <th>464</th>\n",
       "      <td>какие есть услуги в гостинице</td>\n",
       "      <td>услуги</td>\n",
       "    </tr>\n",
       "    <tr>\n",
       "      <th>465</th>\n",
       "      <td>добрый день в вашей гостинице есть дополнитель...</td>\n",
       "      <td>услуги</td>\n",
       "    </tr>\n",
       "    <tr>\n",
       "      <th>487</th>\n",
       "      <td>Здравствуйте какие услуги предлагает отель</td>\n",
       "      <td>услуги</td>\n",
       "    </tr>\n",
       "    <tr>\n",
       "      <th>490</th>\n",
       "      <td>хочу узнать какие есть услуги в гостинице</td>\n",
       "      <td>услуги</td>\n",
       "    </tr>\n",
       "    <tr>\n",
       "      <th>492</th>\n",
       "      <td>добрый день у вас в гостинице есть дополнитель...</td>\n",
       "      <td>услуги</td>\n",
       "    </tr>\n",
       "  </tbody>\n",
       "</table>\n",
       "<p>255 rows × 2 columns</p>\n",
       "</div>"
      ],
      "text/plain": [
       "                                                  text   label\n",
       "0                имеются ли у вас номера бизнес класса  номера\n",
       "1                      Добрый день Какое время заезда    время\n",
       "2                         скажите номера какие имеются  номера\n",
       "3                            когда можно будет заехать   время\n",
       "4               какие услуги гостинице есть дополнение  услуги\n",
       "..                                                 ...     ...\n",
       "464                      какие есть услуги в гостинице  услуги\n",
       "465  добрый день в вашей гостинице есть дополнитель...  услуги\n",
       "487         Здравствуйте какие услуги предлагает отель  услуги\n",
       "490          хочу узнать какие есть услуги в гостинице  услуги\n",
       "492  добрый день у вас в гостинице есть дополнитель...  услуги\n",
       "\n",
       "[255 rows x 2 columns]"
      ]
     },
     "execution_count": 4,
     "metadata": {},
     "output_type": "execute_result"
    }
   ],
   "source": [
    "# балансируем выборку\n",
    "df = df.groupby('label').head(df.groupby('label').size().min())\n",
    "df"
   ]
  },
  {
   "cell_type": "markdown",
   "id": "d60geKgg5yBY",
   "metadata": {
    "id": "d60geKgg5yBY"
   },
   "source": [
    "Смотрим на сбалансированность выборки"
   ]
  },
  {
   "cell_type": "code",
   "execution_count": 5,
   "id": "Etx6uFLbXOAO",
   "metadata": {
    "id": "Etx6uFLbXOAO"
   },
   "outputs": [
    {
     "data": {
      "text/plain": [
       "номера           51\n",
       "время            51\n",
       "услуги           51\n",
       "забронировать    51\n",
       "парковка         51\n",
       "Name: label, dtype: int64"
      ]
     },
     "execution_count": 5,
     "metadata": {},
     "output_type": "execute_result"
    }
   ],
   "source": [
    "# число классов\n",
    "df.label.value_counts()"
   ]
  },
  {
   "cell_type": "markdown",
   "id": "7ddc9cc5-f917-4069-8321-599d1ca6b5a5",
   "metadata": {},
   "source": [
    "### Нормализация текста"
   ]
  },
  {
   "cell_type": "markdown",
   "id": "46d05c58-1591-4346-b1c2-780f9e87a8f6",
   "metadata": {
    "id": "lLBhfxWN6FKq"
   },
   "source": [
    "**Нормализация текста** - процесс приведения текста к нормальному виду, то есть каждый токен в предложении будет заменен на его нормальную форму.\n",
    "Производится в файле `normalize.py`"
   ]
  },
  {
   "cell_type": "code",
   "execution_count": 6,
   "id": "564b46ca-faf4-48bb-ba13-6ca8fff0576a",
   "metadata": {},
   "outputs": [
    {
     "name": "stdout",
     "output_type": "stream",
     "text": [
      "0                           иметься номер бизнес класс\n",
      "1                        добрый день какой время заезд\n",
      "2                          сказать номер какой иметься\n",
      "3                                              заехать\n",
      "4                    какой услуга гостиница дополнение\n",
      "                            ...                       \n",
      "464                             какой услуга гостиница\n",
      "465    добрый день ваш гостиница дополнительный услуга\n",
      "487         здравствуйте какой услуга предлагать отель\n",
      "490               хотеть узнать какой услуга гостиница\n",
      "492        добрый день гостиница дополнительный услуга\n",
      "Name: normal_text, Length: 255, dtype: object\n",
      "                                     text   label  \\\n",
      "0   имеются ли у вас номера бизнес класса  номера   \n",
      "1         Добрый день Какое время заезда    время   \n",
      "2            скажите номера какие имеются  номера   \n",
      "3               когда можно будет заехать   время   \n",
      "4  какие услуги гостинице есть дополнение  услуги   \n",
      "\n",
      "                         normal_text  \n",
      "0         иметься номер бизнес класс  \n",
      "1      добрый день какой время заезд  \n",
      "2        сказать номер какой иметься  \n",
      "3                            заехать  \n",
      "4  какой услуга гостиница дополнение  \n"
     ]
    }
   ],
   "source": [
    "# нормализация каждой строки из таблицы\n",
    "df[\"normal_text\"] = [normalize_text(text, stop_words=True) for text in df.text]\n",
    "\n",
    "print(df.normal_text)\n",
    "\n",
    "print(df.head())"
   ]
  },
  {
   "cell_type": "markdown",
   "id": "347f4e47-ac0c-415f-9ff0-86d0d6274eee",
   "metadata": {
    "id": "KsiaHSOi6wT4"
   },
   "source": [
    "## Векторное представление"
   ]
  },
  {
   "cell_type": "markdown",
   "id": "1a3b9a64-7974-453b-9b87-0abeda798de9",
   "metadata": {
    "id": "JZQqASDI6QHQ"
   },
   "source": [
    "**Представление запросов в виде векторов**\n",
    "\n",
    "В больших наборах текстовых данных некоторые слова будут встречаться в большом количестве текстов и следовательно нести мало значимой информации о них. Чтобы снизить значимость частотных слов и увеличить ее для редких слов, применяют $tf\\times idf$ векторизатор.\n",
    "\n",
    "**TF (term frequency)** - частота слова - доля конкретного слова ($q$) среди всех слов ($t$) документа ($D$)\n",
    "$$\n",
    "TF = \\frac{f(q,D)}{f(t,D)}\n",
    "$$\n",
    "где $f(q, D)$ - частота конкретного слова в рамках текущего документа, $f(t, D)$ - частота всех слов в рамках текущего документа.\n",
    "\n",
    "**IDF (inverted document frequency)**  - обратная частота документа, показывает насколько часто встречается слово во всех документах $N$.\n",
    "$$\n",
    "IDF = log\\frac{N}{N(q)}\n",
    "$$\n",
    "где $N$ - число всех документов, $N(q)$ - число документов, где встречается $q$.\n",
    "\n",
    "На практике используется обычно используется формула со сглаживанием\n",
    "$$\n",
    "IDF = log\\frac{N+1}{N(q)+1}\n",
    "$$"
   ]
  },
  {
   "cell_type": "code",
   "execution_count": 7,
   "id": "ed66dd47-0990-4e62-bd34-2f7a8296e8ea",
   "metadata": {},
   "outputs": [
    {
     "name": "stdout",
     "output_type": "stream",
     "text": [
      "  (0, 80)\t0.6026993571436146\n",
      "  (0, 10)\t0.6475668200326267\n",
      "  (0, 98)\t0.19267075905516196\n",
      "  (0, 71)\t0.4246041416385542\n",
      "  (1, 54)\t0.6408292024633906\n",
      "  (1, 22)\t0.4898121155703305\n",
      "  (1, 78)\t0.29818855199704536\n",
      "  (1, 39)\t0.37413310444629727\n",
      "  (1, 41)\t0.34717435436093685\n",
      "  (2, 154)\t0.6244933073550214\n",
      "  (2, 78)\t0.3737855363057096\n",
      "  (2, 98)\t0.28337358907672816\n",
      "  (2, 71)\t0.6244933073550214\n",
      "  (3, 55)\t1.0\n",
      "  (4, 45)\t0.8012629374010565\n",
      "  (4, 31)\t0.37194948679414375\n",
      "  (4, 177)\t0.3474829168892119\n",
      "  (4, 78)\t0.3144628863493571\n",
      "  (5, 111)\t0.22225470643842282\n",
      "  (5, 12)\t0.597795458199901\n",
      "  (5, 42)\t0.597795458199901\n",
      "  (5, 66)\t0.23608006950293414\n",
      "  (5, 22)\t0.38537674996584514\n",
      "  (5, 98)\t0.17786227015970368\n",
      "  (6, 82)\t0.566225136648855\n",
      "  :\t:\n",
      "  (249, 177)\t0.35817583438636513\n",
      "  (250, 31)\t0.621664365744637\n",
      "  (250, 177)\t0.5807717305833623\n",
      "  (250, 78)\t0.5255831174215211\n",
      "  (251, 47)\t0.47290037995191075\n",
      "  (251, 14)\t0.39535742659840906\n",
      "  (251, 31)\t0.39535742659840906\n",
      "  (251, 177)\t0.3693510992374642\n",
      "  (251, 39)\t0.419382694120222\n",
      "  (251, 41)\t0.38916341358463635\n",
      "  (252, 130)\t0.7817556482828054\n",
      "  (252, 111)\t0.2906493679943161\n",
      "  (252, 66)\t0.308729223766034\n",
      "  (252, 177)\t0.3390232098354982\n",
      "  (252, 78)\t0.30680707431233256\n",
      "  (253, 175)\t0.643561825033347\n",
      "  (253, 182)\t0.43504483217890944\n",
      "  (253, 31)\t0.3914828227342275\n",
      "  (253, 177)\t0.365731364030621\n",
      "  (253, 78)\t0.330977250309617\n",
      "  (254, 47)\t0.5148462660788142\n",
      "  (254, 31)\t0.4304253146749821\n",
      "  (254, 177)\t0.4021122468411873\n",
      "  (254, 39)\t0.45658160424363886\n",
      "  (254, 41)\t0.423681897652334\n"
     ]
    }
   ],
   "source": [
    "# TfidfVectorizer() работает следующим образом:\n",
    "# 1. преобразует запросы с помощью CountVectorizer() - который суммирует one-hot эмбеддинги всех слов запроса\n",
    "# 2. трансформирует полученные эмбеддинги, применяя tf*idf\n",
    "\n",
    "# Векторизуем запросы\n",
    "vectorizer = TfidfVectorizer()\n",
    "#text_embeddings = vectorizer.fit_transform(df.text)\n",
    "x = vectorizer.fit_transform(df.normal_text)\n",
    "print(x)"
   ]
  },
  {
   "cell_type": "code",
   "execution_count": 8,
   "id": "4cb49fbe",
   "metadata": {
    "id": "4cb49fbe"
   },
   "outputs": [
    {
     "data": {
      "text/plain": [
       "255"
      ]
     },
     "execution_count": 8,
     "metadata": {},
     "output_type": "execute_result"
    }
   ],
   "source": [
    "# метки классов\n",
    "y = list(df.label)\n",
    "len(y)"
   ]
  },
  {
   "cell_type": "markdown",
   "id": "51vBBbkz6Tj8",
   "metadata": {
    "id": "51vBBbkz6Tj8"
   },
   "source": [
    "## Классификация"
   ]
  },
  {
   "cell_type": "markdown",
   "id": "dae016ea-66e7-479e-a1e6-bc0d54573448",
   "metadata": {},
   "source": [
    "Разделение датасета на train и test"
   ]
  },
  {
   "cell_type": "code",
   "execution_count": 9,
   "id": "b0b9f753",
   "metadata": {
    "id": "b0b9f753"
   },
   "outputs": [],
   "source": [
    "from sklearn.model_selection import train_test_split\n",
    "\n",
    "x_train, x_test, y_train, y_test = train_test_split(x, y, test_size=0.2, random_state=12)\n",
    "\n",
    "# Хранение оценки точности для каждого метода\n",
    "rscore = {\n",
    "    \"Метод\": [],\n",
    "    \"Точность\": [],\n",
    "}\n",
    "# Путь к моделям\n",
    "path = \"../data/\""
   ]
  },
  {
   "cell_type": "markdown",
   "id": "03db7f5d",
   "metadata": {
    "id": "03db7f5d"
   },
   "source": [
    "## Метод опорных векторов (Support Vectors Classifier)"
   ]
  },
  {
   "cell_type": "markdown",
   "id": "cb6Zc1sk9ZzN",
   "metadata": {
    "id": "cb6Zc1sk9ZzN"
   },
   "source": [
    "Главная цель этого метода классификации - найти такую гиперплоскость, разделяющую пространство на n частей, чтобы расстояние от плоскости до ближайших элементов каждого класса было максимальным. Эти ближайшие элементы и называются опорными векторами."
   ]
  },
  {
   "cell_type": "code",
   "execution_count": 10,
   "id": "053ab079",
   "metadata": {
    "id": "053ab079"
   },
   "outputs": [],
   "source": [
    "from sklearn.svm import SVC"
   ]
  },
  {
   "cell_type": "code",
   "execution_count": 11,
   "id": "8728e325",
   "metadata": {
    "colab": {
     "base_uri": "https://localhost:8080/"
    },
    "id": "8728e325",
    "outputId": "ba999e39-e95c-4db2-89da-a62e050d9d44"
   },
   "outputs": [
    {
     "data": {
      "text/plain": [
       "SVC(probability=True)"
      ]
     },
     "execution_count": 11,
     "metadata": {},
     "output_type": "execute_result"
    }
   ],
   "source": [
    "clf_svc = SVC(probability=True)\n",
    "clf_svc.fit(x_train, y_train)"
   ]
  },
  {
   "cell_type": "code",
   "execution_count": 12,
   "id": "2ae91f36",
   "metadata": {
    "colab": {
     "base_uri": "https://localhost:8080/"
    },
    "id": "2ae91f36",
    "outputId": "4ffcb294-832c-4356-80ce-0ee31a70bdbf"
   },
   "outputs": [
    {
     "data": {
      "text/plain": [
       "array(['забронировать'], dtype='<U13')"
      ]
     },
     "execution_count": 12,
     "metadata": {},
     "output_type": "execute_result"
    }
   ],
   "source": [
    "result_vector = vectorizer.transform(['забронировать номер в отеле на завтра'])\n",
    "clf_svc.predict(result_vector)"
   ]
  },
  {
   "cell_type": "code",
   "execution_count": 13,
   "id": "69ae1cc2",
   "metadata": {
    "colab": {
     "base_uri": "https://localhost:8080/"
    },
    "id": "69ae1cc2",
    "outputId": "cd19e0d1-be5a-4dcd-9a6f-abca6e3256a4"
   },
   "outputs": [
    {
     "name": "stdout",
     "output_type": "stream",
     "text": [
      "0.9411764705882353\n"
     ]
    }
   ],
   "source": [
    "score = clf_svc.score(x_test, y_test)\n",
    "\n",
    "rscore[\"Метод\"].append(\"Опорные векторы (Support Vectors Classifier\")\n",
    "rscore[\"Точность\"].append(score)\n",
    "\n",
    "print(score)"
   ]
  },
  {
   "cell_type": "code",
   "execution_count": 14,
   "id": "f3132d8e",
   "metadata": {
    "colab": {
     "base_uri": "https://localhost:8080/"
    },
    "id": "f3132d8e",
    "outputId": "5be1807a-c38d-4ca0-de63-fa702d14bf9e"
   },
   "outputs": [
    {
     "name": "stdout",
     "output_type": "stream",
     "text": [
      "               precision    recall  f1-score   support\n",
      "\n",
      "        время       0.90      0.82      0.86        11\n",
      "забронировать       1.00      1.00      1.00        12\n",
      "       номера       0.89      1.00      0.94         8\n",
      "     парковка       1.00      0.92      0.96        13\n",
      "       услуги       0.88      1.00      0.93         7\n",
      "\n",
      "     accuracy                           0.94        51\n",
      "    macro avg       0.93      0.95      0.94        51\n",
      " weighted avg       0.94      0.94      0.94        51\n",
      "\n"
     ]
    }
   ],
   "source": [
    "from sklearn.metrics import classification_report\n",
    "y_true, y_pred = y_test, clf_svc.predict(x_test)\n",
    "print(classification_report(y_true, y_pred, zero_division=1))"
   ]
  },
  {
   "cell_type": "code",
   "execution_count": 15,
   "id": "ce9da449-c309-400c-a363-3d3ad06021a4",
   "metadata": {},
   "outputs": [],
   "source": [
    "# Сохранение модели\n",
    "pickle.dump(clf_svc, open(path + \"model_svc.sav\",'wb'))\n",
    "# Сохранение векторизатора\n",
    "pickle.dump(vectorizer, open(path + \"vec_svc.pk\",'wb'))"
   ]
  },
  {
   "cell_type": "markdown",
   "id": "367066b0",
   "metadata": {
    "id": "367066b0"
   },
   "source": [
    "## Ближайшие соседи (KNeighborsClassifier)"
   ]
  },
  {
   "cell_type": "markdown",
   "id": "1Jz41ECpibv1",
   "metadata": {
    "id": "1Jz41ECpibv1"
   },
   "source": [
    "Класс вектора определяется на основании ближайших $k$ соседей, к какому классу принадлежат большинство из них - к такому классу относится и текущий вектор.\n",
    "\n",
    "Можно изменять способ подсчета расстояния между векторами, по умолчанию используется евклидово расстояние."
   ]
  },
  {
   "cell_type": "code",
   "execution_count": 16,
   "id": "f6265e09",
   "metadata": {
    "id": "f6265e09"
   },
   "outputs": [],
   "source": [
    "from sklearn.neighbors import KNeighborsClassifier"
   ]
  },
  {
   "cell_type": "code",
   "execution_count": 17,
   "id": "38ecf85c",
   "metadata": {
    "id": "38ecf85c"
   },
   "outputs": [],
   "source": [
    "x_train, x_test, y_train, y_test = train_test_split(x, y, test_size=0.2, random_state=12)"
   ]
  },
  {
   "cell_type": "markdown",
   "id": "oAwKRNgiaqfD",
   "metadata": {
    "id": "oAwKRNgiaqfD"
   },
   "source": [
    "Выбор оптимального числа соседей"
   ]
  },
  {
   "cell_type": "code",
   "execution_count": 18,
   "id": "N6_Sf80fOE82",
   "metadata": {
    "colab": {
     "base_uri": "https://localhost:8080/",
     "height": 295
    },
    "id": "N6_Sf80fOE82",
    "outputId": "69835c42-df62-47c4-9f00-58ebec851cc6"
   },
   "outputs": [
    {
     "data": {
      "image/png": "[encoded data removed]",
      "text/plain": [
       "<Figure size 960x720 with 1 Axes>"
      ]
     },
     "metadata": {},
     "output_type": "display_data"
    }
   ],
   "source": [
    "from sklearn.cluster import KMeans, MiniBatchKMeans\n",
    "from sklearn.neighbors import (NeighborhoodComponentsAnalysis, KNeighborsClassifier)\n",
    "from sklearn.pipeline import Pipeline\n",
    "import matplotlib.pyplot as plt\n",
    "import matplotlib.cm as cm\n",
    "\n",
    "def find_optimal_k(x_train, y_train, max_k):\n",
    "    iters = range(1, max_k, 1)\n",
    "    acc = []\n",
    "    for k in iters:\n",
    "      knn = KNeighborsClassifier(n_neighbors=k)\n",
    "      knn.fit(x_train, y_train)\n",
    "      acc.append(knn.score(x_test, y_test))\n",
    "        \n",
    "    f, ax = plt.subplots(1, 1)\n",
    "    ax.plot(iters, acc, marker='o')\n",
    "    ax.set_xlabel('number of K')\n",
    "    ax.set_xticks(iters)\n",
    "    ax.set_xticklabels(iters)\n",
    "    ax.set_xticks(ax.get_xticks()[::2])\n",
    "    for k in iters:\n",
    "        ax.axvline(x=k, color='teal', ls='--', lw=1) \n",
    "    ax.set_ylabel('Accuracy')\n",
    "    ax.set_title('Accuracy by K')\n",
    "    f.set_dpi(150)\n",
    "    \n",
    "\n",
    "max_k = 30\n",
    "find_optimal_k(x_train, y_train, max_k)"
   ]
  },
  {
   "cell_type": "markdown",
   "id": "bBgTFG5CTyQa",
   "metadata": {
    "id": "bBgTFG5CTyQa"
   },
   "source": [
    "В данном случае устойчивый результат показывает $14 \\le k \\le 21$"
   ]
  },
  {
   "cell_type": "code",
   "execution_count": 19,
   "id": "55f90562",
   "metadata": {
    "id": "55f90562"
   },
   "outputs": [
    {
     "name": "stdout",
     "output_type": "stream",
     "text": [
      "0.8627450980392157\n"
     ]
    }
   ],
   "source": [
    "#n_neighbors = 4\n",
    "n_neighbors = 15\n",
    "knn = KNeighborsClassifier(n_neighbors=n_neighbors)\n",
    "knn.fit(x_train, y_train)\n",
    "score = knn.score(x_test, y_test)\n",
    "rscore[\"Метод\"].append(\"Ближайшие соседи (KNeighborsClassifier)\")\n",
    "rscore[\"Точность\"].append(score)\n",
    "print(score)"
   ]
  },
  {
   "cell_type": "code",
   "execution_count": 20,
   "id": "1fe84568",
   "metadata": {
    "colab": {
     "base_uri": "https://localhost:8080/"
    },
    "id": "1fe84568",
    "outputId": "7b8c36ba-0861-42a1-ae4f-ad5f0c27a08f",
    "scrolled": true
   },
   "outputs": [
    {
     "name": "stdout",
     "output_type": "stream",
     "text": [
      "               precision    recall  f1-score   support\n",
      "\n",
      "        время       1.00      0.45      0.62        11\n",
      "забронировать       0.80      1.00      0.89        12\n",
      "       номера       0.80      1.00      0.89         8\n",
      "     парковка       1.00      0.92      0.96        13\n",
      "       услуги       0.78      1.00      0.88         7\n",
      "\n",
      "     accuracy                           0.86        51\n",
      "    macro avg       0.88      0.88      0.85        51\n",
      " weighted avg       0.89      0.86      0.85        51\n",
      "\n"
     ]
    }
   ],
   "source": [
    "y_true, y_pred = y_test, knn.predict(x_test)\n",
    "print(classification_report(y_true, y_pred, zero_division=1))"
   ]
  },
  {
   "cell_type": "code",
   "execution_count": 21,
   "id": "9f553e65-0369-40c4-bf54-2d7bf81794e7",
   "metadata": {
    "colab": {
     "base_uri": "https://localhost:8080/"
    },
    "id": "2ae91f36",
    "outputId": "4ffcb294-832c-4356-80ce-0ee31a70bdbf"
   },
   "outputs": [
    {
     "name": "stdout",
     "output_type": "stream",
     "text": [
      "Запрос:  [[0. 1. 0. 0. 0.]]\n"
     ]
    }
   ],
   "source": [
    "result_vector = vectorizer.transform(['забронировать номер в отеле на завтра'])\n",
    "print('Запрос: ', knn.predict_proba(result_vector))"
   ]
  },
  {
   "cell_type": "code",
   "execution_count": 22,
   "id": "08dcb221-c6b0-4801-b038-fd2a71d36ed8",
   "metadata": {},
   "outputs": [],
   "source": [
    "# Сохранение модели\n",
    "pickle.dump(knn, open(path + \"model_knn.sav\",'wb'))\n",
    "# Сохранение векторизатора\n",
    "pickle.dump(vectorizer, open(path + \"vec_knn.pk\",'wb'))"
   ]
  },
  {
   "cell_type": "markdown",
   "id": "9syS82plcOz9",
   "metadata": {
    "id": "9syS82plcOz9"
   },
   "source": [
    "## Логистическая регрессия (LogisticRegressionCV)"
   ]
  },
  {
   "cell_type": "markdown",
   "id": "wFR8R7s6o2hU",
   "metadata": {
    "id": "wFR8R7s6o2hU"
   },
   "source": [
    "В данном случае результатом классификации служит получение распределения вероятности попадания запроса в определенный класс"
   ]
  },
  {
   "cell_type": "code",
   "execution_count": 23,
   "id": "YzIPtmhEV9_1",
   "metadata": {
    "colab": {
     "base_uri": "https://localhost:8080/"
    },
    "id": "YzIPtmhEV9_1",
    "outputId": "0e6b52ae-af7c-4408-feed-f150d785c8b6"
   },
   "outputs": [
    {
     "data": {
      "text/plain": [
       "LogisticRegressionCV(multi_class='multinomial')"
      ]
     },
     "execution_count": 23,
     "metadata": {},
     "output_type": "execute_result"
    }
   ],
   "source": [
    "from sklearn.linear_model import LogisticRegressionCV\n",
    "logreg_clf = LogisticRegressionCV(multi_class = \"multinomial\")\n",
    "logreg_clf.fit(x_train, y_train)"
   ]
  },
  {
   "cell_type": "code",
   "execution_count": 24,
   "id": "8442f41c-28c2-4314-ac8e-e63e56f4e278",
   "metadata": {},
   "outputs": [
    {
     "name": "stdout",
     "output_type": "stream",
     "text": [
      "0.9215686274509803\n"
     ]
    }
   ],
   "source": [
    "score = logreg_clf.score(x_test, y_test)\n",
    "rscore[\"Метод\"].append(\"Логистическая регрессия (LogisticRegressionCV)\")\n",
    "rscore[\"Точность\"].append(score)\n",
    "print(score)"
   ]
  },
  {
   "cell_type": "code",
   "execution_count": 25,
   "id": "J7iyP-54xIHX",
   "metadata": {
    "colab": {
     "base_uri": "https://localhost:8080/"
    },
    "id": "J7iyP-54xIHX",
    "outputId": "f732e4d8-b52c-43f2-aa39-56171b713e0b"
   },
   "outputs": [
    {
     "name": "stdout",
     "output_type": "stream",
     "text": [
      "               precision    recall  f1-score   support\n",
      "\n",
      "        время       1.00      0.64      0.78        11\n",
      "забронировать       0.92      1.00      0.96        12\n",
      "       номера       0.89      1.00      0.94         8\n",
      "     парковка       1.00      1.00      1.00        13\n",
      "       услуги       0.78      1.00      0.88         7\n",
      "\n",
      "     accuracy                           0.92        51\n",
      "    macro avg       0.92      0.93      0.91        51\n",
      " weighted avg       0.93      0.92      0.92        51\n",
      "\n"
     ]
    }
   ],
   "source": [
    "y_pred = logreg_clf.predict(x_test)\n",
    "print(classification_report(y_true, y_pred, zero_division=1))"
   ]
  },
  {
   "cell_type": "markdown",
   "id": "4ba7a8f8-bbb2-420e-8778-33bac63ac3d0",
   "metadata": {},
   "source": [
    "Пример запроса к модели"
   ]
  },
  {
   "cell_type": "code",
   "execution_count": 26,
   "id": "c18c12e1-ace6-43e0-ae90-ff8272a0a777",
   "metadata": {},
   "outputs": [
    {
     "name": "stdout",
     "output_type": "stream",
     "text": [
      "Запрос:  [[0.01920184 0.88047254 0.09207097 0.00444861 0.00380604]]\n"
     ]
    }
   ],
   "source": [
    "result_vector = vectorizer.transform(['забронировать номер в отеле на завтра'])\n",
    "print('Запрос: ', logreg_clf.predict_proba(result_vector))"
   ]
  },
  {
   "cell_type": "code",
   "execution_count": 27,
   "id": "d5cf8308-452f-464f-833e-fbae30180d34",
   "metadata": {},
   "outputs": [],
   "source": [
    "# Сохранение модели\n",
    "pickle.dump(logreg_clf, open(path + \"model_logreg.sav\",'wb'))\n",
    "# Сохранение векторизатора\n",
    "pickle.dump(vectorizer, open(path + \"vec_logreg.pk\",'wb'))"
   ]
  },
  {
   "cell_type": "markdown",
   "id": "17d12986-f28d-4ee6-93ce-31724ffffe20",
   "metadata": {},
   "source": [
    "## Точность моделей"
   ]
  },
  {
   "cell_type": "code",
   "execution_count": 28,
   "id": "405caff2-8f07-422e-ac9e-ea63b95b9b06",
   "metadata": {},
   "outputs": [
    {
     "data": {
      "text/html": [
       "<div>\n",
       "<style scoped>\n",
       "    .dataframe tbody tr th:only-of-type {\n",
       "        vertical-align: middle;\n",
       "    }\n",
       "\n",
       "    .dataframe tbody tr th {\n",
       "        vertical-align: top;\n",
       "    }\n",
       "\n",
       "    .dataframe thead th {\n",
       "        text-align: right;\n",
       "    }\n",
       "</style>\n",
       "<table border=\"1\" class=\"dataframe\">\n",
       "  <thead>\n",
       "    <tr style=\"text-align: right;\">\n",
       "      <th></th>\n",
       "      <th>Метод</th>\n",
       "      <th>Точность</th>\n",
       "    </tr>\n",
       "  </thead>\n",
       "  <tbody>\n",
       "    <tr>\n",
       "      <th>0</th>\n",
       "      <td>Опорные векторы (Support Vectors Classifier</td>\n",
       "      <td>0.941176</td>\n",
       "    </tr>\n",
       "    <tr>\n",
       "      <th>1</th>\n",
       "      <td>Ближайшие соседи (KNeighborsClassifier)</td>\n",
       "      <td>0.862745</td>\n",
       "    </tr>\n",
       "    <tr>\n",
       "      <th>2</th>\n",
       "      <td>Логистическая регрессия (LogisticRegressionCV)</td>\n",
       "      <td>0.921569</td>\n",
       "    </tr>\n",
       "  </tbody>\n",
       "</table>\n",
       "</div>"
      ],
      "text/plain": [
       "                                            Метод  Точность\n",
       "0     Опорные векторы (Support Vectors Classifier  0.941176\n",
       "1         Ближайшие соседи (KNeighborsClassifier)  0.862745\n",
       "2  Логистическая регрессия (LogisticRegressionCV)  0.921569"
      ]
     },
     "execution_count": 28,
     "metadata": {},
     "output_type": "execute_result"
    }
   ],
   "source": [
    "pd.DataFrame.from_dict(rscore)"
   ]
  },
  {
   "cell_type": "markdown",
   "id": "a3a02545-db59-42d4-a0a2-af6e6c2b1024",
   "metadata": {},
   "source": [
    "Выбираем подходящую модель. Каждая модель и векторизатор сохранены в отдельный файл. Они будут использоваться ботом."
   ]
  },
  {
   "cell_type": "code",
   "execution_count": null,
   "id": "e6ceb9a9-e1de-41d3-96d0-d58adb328624",
   "metadata": {},
   "outputs": [],
   "source": []
  }
 ],
 "metadata": {
  "colab": {
   "collapsed_sections": [],
   "provenance": []
  },
  "kernelspec": {
   "display_name": "Python 3 (ipykernel)",
   "language": "python",
   "name": "python3"
  },
  "language_info": {
   "codemirror_mode": {
    "name": "ipython",
    "version": 3
   },
   "file_extension": ".py",
   "mimetype": "text/x-python",
   "name": "python",
   "nbconvert_exporter": "python",
   "pygments_lexer": "ipython3",
   "version": "3.10.6"
  },
  "widgets": {
   "application/vnd.jupyter.widget-state+json": {
    "state": {},
    "version_major": 2,
    "version_minor": 0
   }
  }
 },
 "nbformat": 4,
 "nbformat_minor": 5
}
